{
  "nbformat": 4,
  "nbformat_minor": 0,
  "metadata": {
    "colab": {
      "provenance": [],
      "authorship_tag": "ABX9TyMZv11T8PHBXPxUL+/jEvPk",
      "include_colab_link": true
    },
    "kernelspec": {
      "name": "python3",
      "display_name": "Python 3"
    },
    "language_info": {
      "name": "python"
    }
  },
  "cells": [
    {
      "cell_type": "markdown",
      "metadata": {
        "id": "view-in-github",
        "colab_type": "text"
      },
      "source": [
        "<a href=\"https://colab.research.google.com/github/TatianaNinoo/Data_visualization/blob/main/04_DS.ipynb\" target=\"_parent\"><img src=\"https://colab.research.google.com/assets/colab-badge.svg\" alt=\"Open In Colab\"/></a>"
      ]
    },
    {
      "cell_type": "markdown",
      "source": [
        "## Two types\n",
        "* Series- 1 dimenson\n",
        "* Dataframes - more dimensions (panel)\n",
        "\n",
        "Corte/ Cross-section\n",
        "Serie de Tiempo /Time-series\n",
        "Panel/Panel\n",
        "\n"
      ],
      "metadata": {
        "id": "mYpatAg4BrkS"
      }
    },
    {
      "cell_type": "code",
      "source": [
        "import numpy as np\n",
        "import pandas as pd"
      ],
      "metadata": {
        "id": "oqGvB8FUCC3S"
      },
      "execution_count": null,
      "outputs": []
    },
    {
      "cell_type": "markdown",
      "source": [
        "#2. Pandas Series\n",
        "##2.1 Series creation"
      ],
      "metadata": {
        "id": "JGS8QVvTCQJ0"
      }
    },
    {
      "cell_type": "code",
      "source": [
        "# Empty series\n",
        "s_empty= pd.Series()\n",
        "print(s_empty)"
      ],
      "metadata": {
        "colab": {
          "base_uri": "https://localhost:8080/"
        },
        "id": "S2KgAeG5CWBg",
        "outputId": "d83af2b6-69d1-4d96-e78a-3f2c20066c4f"
      },
      "execution_count": null,
      "outputs": [
        {
          "output_type": "stream",
          "name": "stdout",
          "text": [
            "Series([], dtype: float64)\n"
          ]
        },
        {
          "output_type": "stream",
          "name": "stderr",
          "text": [
            "<ipython-input-2-68831bdad581>:2: FutureWarning: The default dtype for empty Series will be 'object' instead of 'float64' in a future version. Specify a dtype explicitly to silence this warning.\n",
            "  s_empty= pd.Series()\n"
          ]
        }
      ]
    },
    {
      "cell_type": "code",
      "source": [
        "#A number series\n",
        "s_int = pd.Series([1,2,3,4,5])\n",
        "print(s_int)"
      ],
      "metadata": {
        "colab": {
          "base_uri": "https://localhost:8080/"
        },
        "id": "3UyRE1SdC25F",
        "outputId": "8046d85a-1a81-4f40-f2bf-218a0d649474"
      },
      "execution_count": null,
      "outputs": [
        {
          "output_type": "stream",
          "name": "stdout",
          "text": [
            "0    1\n",
            "1    2\n",
            "2    3\n",
            "3    4\n",
            "4    5\n",
            "dtype: int64\n"
          ]
        }
      ]
    },
    {
      "cell_type": "code",
      "source": [
        "# Using random numbers\n",
        "s_rand = pd.Series(np.random.rand(8))\n",
        "print(s_rand)"
      ],
      "metadata": {
        "colab": {
          "base_uri": "https://localhost:8080/"
        },
        "id": "fe4xZacHDdd3",
        "outputId": "4eb243e1-92ff-4ebc-d383-6de8f9af6854"
      },
      "execution_count": null,
      "outputs": [
        {
          "output_type": "stream",
          "name": "stdout",
          "text": [
            "0    0.941119\n",
            "1    0.573895\n",
            "2    0.017181\n",
            "3    0.248809\n",
            "4    0.995993\n",
            "5    0.773318\n",
            "6    0.083919\n",
            "7    0.001592\n",
            "dtype: float64\n"
          ]
        }
      ]
    },
    {
      "cell_type": "code",
      "source": [
        "# ???\n",
        "tmp = pd.Series([1, 'b'])\n",
        "print(tmp)"
      ],
      "metadata": {
        "colab": {
          "base_uri": "https://localhost:8080/"
        },
        "id": "SWHbE-xtD3WV",
        "outputId": "9e1acb21-019e-49d7-805d-99d822f347db"
      },
      "execution_count": null,
      "outputs": [
        {
          "output_type": "stream",
          "name": "stdout",
          "text": [
            "0    1\n",
            "1    b\n",
            "dtype: object\n"
          ]
        }
      ]
    },
    {
      "cell_type": "markdown",
      "source": [
        "##2.2 Indexing"
      ],
      "metadata": {
        "id": "thbgrIwCEdJh"
      }
    },
    {
      "cell_type": "code",
      "source": [
        "# Index of s_rand\n",
        "s_rand.index"
      ],
      "metadata": {
        "colab": {
          "base_uri": "https://localhost:8080/"
        },
        "id": "C_y8zAU9Efgh",
        "outputId": "a6da9fbc-aaec-4962-b678-1690c2d833d8"
      },
      "execution_count": null,
      "outputs": [
        {
          "output_type": "execute_result",
          "data": {
            "text/plain": [
              "RangeIndex(start=0, stop=8, step=1)"
            ]
          },
          "metadata": {},
          "execution_count": 6
        }
      ]
    },
    {
      "cell_type": "code",
      "source": [
        "# Redifine index\n",
        "## Create the new index\n",
        "index = ['i', 'ii', 'iii', 'iv', 'v', 'vi', 'vii', 'viii']\n",
        "s_rand2 = pd.Series(np.random.rand(8), index = index)\n",
        "print(s_rand2)"
      ],
      "metadata": {
        "colab": {
          "base_uri": "https://localhost:8080/"
        },
        "id": "5RmBPWJVElkS",
        "outputId": "13dcb280-96f9-4da7-febf-bd9a678fc84c"
      },
      "execution_count": null,
      "outputs": [
        {
          "output_type": "stream",
          "name": "stdout",
          "text": [
            "i       0.256243\n",
            "ii      0.487458\n",
            "iii     0.717872\n",
            "iv      0.913970\n",
            "v       0.535282\n",
            "vi      0.099768\n",
            "vii     0.899479\n",
            "viii    0.564192\n",
            "dtype: float64\n"
          ]
        }
      ]
    },
    {
      "cell_type": "markdown",
      "source": [
        "# 2.3 Slicing"
      ],
      "metadata": {
        "id": "WP5L6AnTFpLh"
      }
    },
    {
      "cell_type": "code",
      "source": [
        "# First element\n",
        "s_rand2[0]\n",
        "s_rand2[['i', 'vii']]"
      ],
      "metadata": {
        "colab": {
          "base_uri": "https://localhost:8080/"
        },
        "id": "tJxoj8lSFusR",
        "outputId": "a544ed5d-cea9-4eaf-9bf2-66dec324d4c3"
      },
      "execution_count": null,
      "outputs": [
        {
          "output_type": "execute_result",
          "data": {
            "text/plain": [
              "i      0.256243\n",
              "vii    0.899479\n",
              "dtype: float64"
            ]
          },
          "metadata": {},
          "execution_count": 14
        }
      ]
    },
    {
      "cell_type": "code",
      "source": [
        "# Edit elements\n",
        "s_rand2['v']= 100\n",
        "print(s_rand2)"
      ],
      "metadata": {
        "colab": {
          "base_uri": "https://localhost:8080/"
        },
        "id": "_uc_c_bXGnH8",
        "outputId": "e8be6b52-1d21-4e87-f64d-6b99004c7fd0"
      },
      "execution_count": null,
      "outputs": [
        {
          "output_type": "stream",
          "name": "stdout",
          "text": [
            "i         0.256243\n",
            "ii        0.487458\n",
            "iii       0.717872\n",
            "iv        0.913970\n",
            "v       100.000000\n",
            "vi        0.099768\n",
            "vii       0.899479\n",
            "viii      0.564192\n",
            "dtype: float64\n"
          ]
        }
      ]
    },
    {
      "cell_type": "code",
      "source": [
        "# Operations\n",
        "s_rand2 - 5\n",
        "s_rand2 + 5\n",
        "s_rand2 * 5\n",
        "s_rand2 / 5"
      ],
      "metadata": {
        "colab": {
          "base_uri": "https://localhost:8080/"
        },
        "id": "_ROfETmnG7de",
        "outputId": "350f4a14-6ea8-4de5-e6b9-ff2ba1be344b"
      },
      "execution_count": null,
      "outputs": [
        {
          "output_type": "execute_result",
          "data": {
            "text/plain": [
              "i        0.051249\n",
              "ii       0.097492\n",
              "iii      0.143574\n",
              "iv       0.182794\n",
              "v       20.000000\n",
              "vi       0.019954\n",
              "vii      0.179896\n",
              "viii     0.112838\n",
              "dtype: float64"
            ]
          },
          "metadata": {},
          "execution_count": 19
        }
      ]
    },
    {
      "cell_type": "code",
      "source": [
        "# Special\n",
        "np.exp(s_rand2)\n",
        "\n",
        "np.log(s_rand2)"
      ],
      "metadata": {
        "colab": {
          "base_uri": "https://localhost:8080/"
        },
        "id": "MvF3mrh3HUwV",
        "outputId": "50e44bef-a3e4-48a9-c426-967f7bc5b0ae"
      },
      "execution_count": null,
      "outputs": [
        {
          "output_type": "execute_result",
          "data": {
            "text/plain": [
              "i      -1.361631\n",
              "ii     -0.718552\n",
              "iii    -0.331464\n",
              "iv     -0.089957\n",
              "v       4.605170\n",
              "vi     -2.304903\n",
              "vii    -0.105939\n",
              "viii   -0.572361\n",
              "dtype: float64"
            ]
          },
          "metadata": {},
          "execution_count": 23
        }
      ]
    }
  ]
}