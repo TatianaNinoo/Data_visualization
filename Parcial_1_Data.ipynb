{
  "nbformat": 4,
  "nbformat_minor": 0,
  "metadata": {
    "colab": {
      "provenance": [],
      "authorship_tag": "ABX9TyP4AS519UvftDXmqRm/NsKD",
      "include_colab_link": true
    },
    "kernelspec": {
      "name": "python3",
      "display_name": "Python 3"
    },
    "language_info": {
      "name": "python"
    }
  },
  "cells": [
    {
      "cell_type": "markdown",
      "metadata": {
        "id": "view-in-github",
        "colab_type": "text"
      },
      "source": [
        "<a href=\"https://colab.research.google.com/github/TatianaNinoo/Data_visualization/blob/main/Parcial_1_Data.ipynb\" target=\"_parent\"><img src=\"https://colab.research.google.com/assets/colab-badge.svg\" alt=\"Open In Colab\"/></a>"
      ]
    },
    {
      "cell_type": "markdown",
      "source": [
        "#**Data Visualization's first exam**\n",
        "*Laura Tatiana Niño Mendivelso*"
      ],
      "metadata": {
        "id": "UeJF2ldKThUa"
      }
    },
    {
      "cell_type": "markdown",
      "source": [
        "# **1. Database's description**"
      ],
      "metadata": {
        "id": "DIlK-UjmUius"
      }
    },
    {
      "cell_type": "markdown",
      "source": [
        "## *Variables' description*"
      ],
      "metadata": {
        "id": "WOWh7RBbabnU"
      }
    },
    {
      "cell_type": "markdown",
      "source": [
        "| Variable                      | Frequency | Measurement | Description |\n",
        "|-------------------------------|-----------|-------------|-------------|\n",
        "| Life expectancy at birth   | Annual    |  Years      | Number of years a newborn infant would live|\n",
        "| Government health expenditure | Annual    |  Percentage | Percentage of people using drinking water from an improved source that is accessible |\n",
        "| Consumption of iodized salt   | Annual    |  Percentage | Percentage of households which have salt they used for cooking that tested positive for presence of iodine |\n",
        "|People using safely managed drinking water services| Annual | Percentage | Public expenditure on health from domestic sources as a share of the economy as measured by GDP|\n"
      ],
      "metadata": {
        "id": "TtgVJHCiVcFx"
      }
    },
    {
      "cell_type": "markdown",
      "source": [
        "## *Database's description*"
      ],
      "metadata": {
        "id": "n3fkXbiEaTzR"
      }
    },
    {
      "cell_type": "markdown",
      "source": [
        "* ***Source:*** World Bank\n",
        "* ***Countries:*** 217\n",
        "* ***Years:*** 2017-2021\n",
        "* ***Dependent variable:*** Life expectancy at birth\n",
        "* ***Independent variables:*** Goverment health expenditure, consumption of iodized salt, people using safety managed drinking water services"
      ],
      "metadata": {
        "id": "vKKVQYODcOVT"
      }
    },
    {
      "cell_type": "markdown",
      "source": [
        "# **2. Hypothesis and Goal**"
      ],
      "metadata": {
        "id": "lsQJWEireUKj"
      }
    },
    {
      "cell_type": "markdown",
      "source": [
        "## *Hypothesis*\n",
        "\n",
        "Health varibles as:\n",
        "* **Health systems** like goverment health expenditure\n",
        "* **Nutrition** like consumption of iodized salt\n",
        "* **Disease prevention** like people using managed drinking water services\n",
        "\n",
        "Could explain the behavior of life expectancy at birth so:\n",
        "\n",
        "* If the goverment expends more of the GDP in health it would be better, therefore, life expectancy is longer.\n",
        "\n",
        "* If there's less consumption of iodized salt, the nutrition is better so the life expectancy is longer.\n",
        "\n",
        "* If there's disease prevention as less with managed drinking water, as more people using it as life expectancy is longer."
      ],
      "metadata": {
        "id": "TnhEWBUieatJ"
      }
    },
    {
      "cell_type": "markdown",
      "source": [
        "## *Goal*\n",
        "To verify if health varibles' could explain the behaviour of life expectancy at birth"
      ],
      "metadata": {
        "id": "VDwgjQCIgouS"
      }
    },
    {
      "cell_type": "markdown",
      "source": [
        "# **3. Graphics I want to obtain**"
      ],
      "metadata": {
        "id": "ZS3-xMb6g3-x"
      }
    },
    {
      "cell_type": "markdown",
      "source": [
        "## *First Graphic*"
      ],
      "metadata": {
        "id": "TgdFmH3jotN8"
      }
    },
    {
      "cell_type": "markdown",
      "source": [
        "![texto del enlace](https://elordenmundial.com/wp-content/uploads/2022/12/mapa-desarrollo-mundo.png)"
      ],
      "metadata": {
        "id": "TvOLm4wUhB30"
      }
    },
    {
      "cell_type": "markdown",
      "source": [
        "*Some of the grafics could obtain is a map in which could show for example intervals of expenditure of the goverment on health and if it is proportional with the life expectancy of life throug colors as the graphic shows, it is possible to add figures and another marks to identify the differences*"
      ],
      "metadata": {
        "id": "CA2ydQwAicM-"
      }
    },
    {
      "cell_type": "markdown",
      "source": [
        "## *Second Graphic*"
      ],
      "metadata": {
        "id": "QJDUPFcKox9Y"
      }
    },
    {
      "cell_type": "markdown",
      "source": [
        "![texto del enlace](https://tudashboard.com/wp-content/uploads/2021/06/Barras-y-linea.jpg)"
      ],
      "metadata": {
        "id": "BuC2KUgJj7jW"
      }
    },
    {
      "cell_type": "markdown",
      "source": [
        "*I want to verify that the independent varibles could explain the dependent one through this graphic showing the behaviour of each one being some of them proportional or inversely proportional such is in this graphic where we can know the behavior of some variables in bars and another in line. In the case of my database the line is life expectancy at birth and the bars are the independent variables.*"
      ],
      "metadata": {
        "id": "qN-b94Bkj_TQ"
      }
    }
  ]
}