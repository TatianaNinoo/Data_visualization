{
  "cells": [
    {
      "cell_type": "markdown",
      "metadata": {
        "id": "view-in-github",
        "colab_type": "text"
      },
      "source": [
        "<a href=\"https://colab.research.google.com/github/TatianaNinoo/Data_visualization/blob/main/Workshop_2.ipynb\" target=\"_parent\"><img src=\"https://colab.research.google.com/assets/colab-badge.svg\" alt=\"Open In Colab\"/></a>"
      ]
    },
    {
      "cell_type": "markdown",
      "metadata": {
        "id": "BJolccUZSw9G"
      },
      "source": [
        "<h1 align = \"center\">\n",
        "<strong> Universidad de La Salle </strong>\n",
        "</h1>\n",
        "\n",
        "<h1 align = \"center\">\n",
        "<strong> Finance and International Commerce Program </strong>\n",
        "</h1>\n",
        "\n",
        "<h1 align = \"center\">\n",
        "<strong> Data Visualization - Workshop 2 </strong>\n",
        "</h1>\n"
      ]
    },
    {
      "cell_type": "markdown",
      "metadata": {
        "id": "pLRc5RAyWsre"
      },
      "source": [
        "# **Instructions**\n",
        "\n",
        "1. Please read carefully the document. Ask all the questions you may have.\n",
        "2. Save this file in your Google Drive.\n",
        "3. DO NOT alter any cell unless it specifically ask you to do it.\n",
        "4. You will have **two hours** (until 11am) maximum to finish and deliver this workshop.\n",
        "5. You can use any help you want: your notes, your codes, internet, classmates.\n",
        "6. Nevertheless, the workshop must be presented individually.\n",
        "7. Once you have finish, save a copy in your GitHub class repository.\n",
        "8. The deliver process is as follows:\n",
        "    \n",
        "    8.1. Via email you will send the link to the GitHub location.\n",
        "    \n",
        "    8.2. In the same mail, just for safety, you will attach a copy of your `.ipynb` file.\n",
        "    \n",
        "    8.3. The email must have the subject: \"W2 DV\".   "
      ]
    },
    {
      "cell_type": "markdown",
      "metadata": {
        "id": "4QKdNKujZEbk"
      },
      "source": [
        "# **To keep in mind**\n",
        "\n",
        "* The excercises propouse are intended to **push** you a little futher in your Pyton skills.\n",
        "* This means that there are going to be exercises above the level seen in class.\n",
        "* The idea is to incentive your creative thinking and solving problem skills.\n",
        "* As always there several ways to do the excersice. But in this case, I ask you to use only the tools we learned.\n",
        "* I ask you to trust me. Give your best effort. Grades do not matter here."
      ]
    },
    {
      "cell_type": "markdown",
      "metadata": {
        "id": "2kRoSKUmaGl9"
      },
      "source": [
        "# **Exercise**\n",
        "\n",
        "**Roulette!**\n",
        "\n",
        "Let's simulate a casino game.\n",
        "Specifically, a single-zero (french) roulette.\n",
        "\n",
        "This game consists on rolling a ball over a wheel with number pockets.\n",
        "\n",
        "[Game](https://image.shutterstock.com/image-illustration/casino-roulette-wheel-chips-on-600w-1288790665.jpg)\n",
        "\n",
        "There are several ways to bet on this game, you have to code a few."
      ]
    },
    {
      "cell_type": "code",
      "execution_count": null,
      "metadata": {
        "id": "8lMuVMe0iwhw"
      },
      "outputs": [],
      "source": [
        "import numpy as np"
      ]
    },
    {
      "cell_type": "markdown",
      "metadata": {
        "id": "PYIRNu3imJ_n"
      },
      "source": [
        "## Ex 1 - Number Bet\n",
        "\n",
        "You can bet on any number between 0 and 36.\n",
        "You win if the result is the number you bet on.\n",
        "In any other case, you lose.\n",
        "\n",
        "Write the appropiate the code to reflect this process.\n",
        "\n",
        "The result must show the bet made, the result obtained and if you win or lose."
      ]
    },
    {
      "cell_type": "code",
      "execution_count": 20,
      "metadata": {
        "colab": {
          "base_uri": "https://localhost:8080/"
        },
        "id": "9TaC9734lQMI",
        "outputId": "302ddca1-3634-4244-f74d-f544da325110"
      },
      "outputs": [
        {
          "output_type": "stream",
          "name": "stdout",
          "text": [
            "Your bet number is 10\n",
            "The number of the roulette was: 22\n",
            "You lose\n"
          ]
        }
      ],
      "source": [
        "# Answ. Ex 1\n",
        "# (write your code below)\n",
        "\n",
        "bn= 10\n",
        "rn= np.random.randint(low =0, high = 37)\n",
        "print('Your bet number is', bn)\n",
        "print('The number of the roulette was:', rn)\n",
        "if rn==bn:\n",
        "  print('You win')\n",
        "else:\n",
        "  print('You lose')"
      ]
    },
    {
      "cell_type": "markdown",
      "metadata": {
        "id": "LAdWe8iEaL7B"
      },
      "source": [
        "## Ex 2 - Color Bet\n",
        "\n",
        "Each color has an associated color. Zero is neutral.\n",
        "\n",
        "And the rest of the numbers vary between black and red (see the previous image).\n",
        "\n",
        "Write the appropiate code to simulate a random round of Roulette using only the color bet (black or white).\n",
        "\n",
        "The result must show the bet made, the result obtained and if you win or lose.\n",
        "\n",
        "*Tip: first define when you lose and when you win.*"
      ]
    },
    {
      "cell_type": "code",
      "execution_count": 19,
      "metadata": {
        "colab": {
          "base_uri": "https://localhost:8080/"
        },
        "id": "rw792kISSt3n",
        "outputId": "a40769e6-69fc-42a2-9c12-a571ec167e01"
      },
      "outputs": [
        {
          "output_type": "stream",
          "name": "stdout",
          "text": [
            "Your bet color is Red\n",
            "The color of the roulette was:\n",
            "Black\n",
            "You lose\n"
          ]
        }
      ],
      "source": [
        "# Answ. Ex 2\n",
        "# (write your code below)\n",
        "\n",
        "bc= 'Red'\n",
        "print('Your bet color is', bc)\n",
        "rc=np.random.rand()\n",
        "print('The color of the roulette was:')\n",
        "if rc < 0.49:\n",
        "  print('Red')\n",
        "  a=-1\n",
        "elif 0.49< rc < 0.98:\n",
        "  print('Black')\n",
        "  a=1\n",
        "else:\n",
        "  print('Green')\n",
        "  a=0\n",
        "\n",
        "if bc=='Black' and a ==1:\n",
        "  print('You win')\n",
        "elif bc=='Red' and a ==-1:\n",
        "  print('You win')\n",
        "else:\n",
        "  print('You lose')"
      ]
    },
    {
      "cell_type": "markdown",
      "metadata": {
        "id": "YFsGiwcNfgzP"
      },
      "source": [
        "## Ex 3 - Dozens Bet\n",
        "\n",
        "Given the 3 groups:\n",
        "\n",
        "A -> numbers between 1 and 12.\n",
        "B -> numbers between 13 and 24.\n",
        "C -> numbers between 25 and 36.\n",
        "\n",
        "Write the appropiate code to print the result of betting exclusively with dozens.\n",
        "\n",
        "The result must show the bet made, the result obtained and if you win or lose.\n",
        "\n",
        "*Tip: Note that zero is not in the groups but it is a possible result.*"
      ]
    },
    {
      "cell_type": "code",
      "execution_count": 10,
      "metadata": {
        "id": "Dwdsh30Ti3vl",
        "colab": {
          "base_uri": "https://localhost:8080/"
        },
        "outputId": "15825026-6d53-47d7-8dcc-12ab2ba3e834"
      },
      "outputs": [
        {
          "output_type": "stream",
          "name": "stdout",
          "text": [
            "Your bet option is: A\n",
            "The option of the roulette was:\n",
            "C\n",
            "You lose\n"
          ]
        }
      ],
      "source": [
        "# Answ. Ex 3\n",
        "# (write your code below)\n",
        "\n",
        "# A= Numbers between 1 and 12\n",
        "# B= Numbers between 13 and 24\n",
        "# C= Numbers between 25 and 36\n",
        "\n",
        "db= 'A'\n",
        "print('Your bet option is:',db)\n",
        "rd= np.random.randint(low= 1, high =37)\n",
        "print('The option of the roulette was:')\n",
        "if 1 < rd <12:\n",
        "  print('A')\n",
        "  b=-1\n",
        "elif 13 < rd <24:\n",
        "  print('B')\n",
        "  b=1\n",
        "else:\n",
        "  print('C')\n",
        "  b=0\n",
        "\n",
        "if db=='A'and b==-1:\n",
        "  print('You win')\n",
        "elif db=='B' and b==1:\n",
        "  print('You win')\n",
        "else:\n",
        "  print('You lose')"
      ]
    },
    {
      "cell_type": "markdown",
      "metadata": {
        "id": "RSyiV1UPlVcJ"
      },
      "source": [
        "## Ex 4 - Putting everything together\n",
        "\n",
        "Write the code that simulate a random game of Roulette where the person can bet on: Number, Color, Dozen or any combination she or he wants.\n",
        "\n",
        "The result must show the bet made, the result obtained and if you win or lose."
      ]
    },
    {
      "cell_type": "code",
      "execution_count": 25,
      "metadata": {
        "id": "FQU_vc_5sse0",
        "colab": {
          "base_uri": "https://localhost:8080/"
        },
        "outputId": "bff0b378-a016-45fc-e9c0-a0888384e6df"
      },
      "outputs": [
        {
          "output_type": "stream",
          "name": "stdout",
          "text": [
            "The bet number is: 10\n",
            "The number of the roulette was: 22\n",
            "The bet color is: Red\n",
            "The color of the roulette was:\n",
            "Black\n",
            "The bet option is: A\n",
            "The option of the roulette was:\n",
            "C\n",
            "You lose\n"
          ]
        }
      ],
      "source": [
        "# Answ. Ex 4\n",
        "# (write your code below)\n",
        "\n",
        "# A= Numbers between 1 and 12\n",
        "# B= Numbers between 13 and 24\n",
        "# C= Numbers between 25 and 36\n",
        "\n",
        "print('The bet number is:', bn)\n",
        "print('The number of the roulette was:', rn)\n",
        "print('The bet color is:', bc)\n",
        "print('The color of the roulette was:')\n",
        "if rc < 0.49:\n",
        "  print('Red')\n",
        "  a=-1\n",
        "elif 0.49< rc < 0.98:\n",
        "  print('Black')\n",
        "  a=1\n",
        "else:\n",
        "  print('Green')\n",
        "  a=0\n",
        "print('The bet option is:', db)\n",
        "print('The option of the roulette was:')\n",
        "if 1 < rd <12:\n",
        "  print('A')\n",
        "  b=-1\n",
        "elif 13 < rd <24:\n",
        "  print('B')\n",
        "  b=1\n",
        "else:\n",
        "  print('C')\n",
        "  b=0\n",
        "\n",
        "\n",
        "if rn==bn and bc=='Black'and a ==1 and db=='A'and b==-1:\n",
        "  print('You win')\n",
        "elif bc=='Red' and a ==-1 and db=='B' and b==1:\n",
        "  print('You win')\n",
        "else:\n",
        "  print('You lose')\n"
      ]
    }
  ],
  "metadata": {
    "colab": {
      "provenance": [],
      "include_colab_link": true
    },
    "kernelspec": {
      "display_name": "Python 3",
      "name": "python3"
    },
    "language_info": {
      "name": "python"
    }
  },
  "nbformat": 4,
  "nbformat_minor": 0
}