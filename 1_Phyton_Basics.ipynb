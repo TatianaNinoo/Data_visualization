{
  "nbformat": 4,
  "nbformat_minor": 0,
  "metadata": {
    "colab": {
      "provenance": [],
      "authorship_tag": "ABX9TyNPKOsxHVz5XcfBKuRMxB0i",
      "include_colab_link": true
    },
    "kernelspec": {
      "name": "python3",
      "display_name": "Python 3"
    },
    "language_info": {
      "name": "python"
    }
  },
  "cells": [
    {
      "cell_type": "markdown",
      "metadata": {
        "id": "view-in-github",
        "colab_type": "text"
      },
      "source": [
        "<a href=\"https://colab.research.google.com/github/TatianaNinoo/Data_visualization/blob/main/1_Phyton_Basics.ipynb\" target=\"_parent\"><img src=\"https://colab.research.google.com/assets/colab-badge.svg\" alt=\"Open In Colab\"/></a>"
      ]
    },
    {
      "cell_type": "markdown",
      "source": [
        "#**1. Getting started**"
      ],
      "metadata": {
        "id": "Bq-nv91at8dJ"
      }
    },
    {
      "cell_type": "markdown",
      "source": [
        "##1.1 Phyton as a Calculator"
      ],
      "metadata": {
        "id": "LcoLeGWxt5uO"
      }
    },
    {
      "cell_type": "code",
      "source": [
        "#Addition\n",
        "2 + 3"
      ],
      "metadata": {
        "colab": {
          "base_uri": "https://localhost:8080/"
        },
        "id": "IkxnR3CguPU5",
        "outputId": "b280d561-96fb-4261-d5e6-e79a503e8119"
      },
      "execution_count": null,
      "outputs": [
        {
          "output_type": "execute_result",
          "data": {
            "text/plain": [
              "5"
            ]
          },
          "metadata": {},
          "execution_count": 1
        }
      ]
    },
    {
      "cell_type": "code",
      "source": [
        "#Substraction\n",
        "15 - 7"
      ],
      "metadata": {
        "colab": {
          "base_uri": "https://localhost:8080/"
        },
        "id": "07nN5jCYu1Dn",
        "outputId": "982457a5-02d9-4a3f-c449-806493b48b7e"
      },
      "execution_count": null,
      "outputs": [
        {
          "output_type": "execute_result",
          "data": {
            "text/plain": [
              "8"
            ]
          },
          "metadata": {},
          "execution_count": 2
        }
      ]
    },
    {
      "cell_type": "code",
      "source": [
        "#Multiplication\n",
        "63 * 13"
      ],
      "metadata": {
        "colab": {
          "base_uri": "https://localhost:8080/"
        },
        "id": "fCPy8ZD5u8WH",
        "outputId": "112048a8-39d5-4cd0-ff2e-cc4a64b70992"
      },
      "execution_count": null,
      "outputs": [
        {
          "output_type": "execute_result",
          "data": {
            "text/plain": [
              "819"
            ]
          },
          "metadata": {},
          "execution_count": 3
        }
      ]
    },
    {
      "cell_type": "code",
      "source": [
        "#Division\n",
        "99 / 43"
      ],
      "metadata": {
        "colab": {
          "base_uri": "https://localhost:8080/"
        },
        "id": "V9OptkkDvDj3",
        "outputId": "2945e0ce-39d1-434d-cc51-e5a8613c7c10"
      },
      "execution_count": null,
      "outputs": [
        {
          "output_type": "execute_result",
          "data": {
            "text/plain": [
              "2.302325581395349"
            ]
          },
          "metadata": {},
          "execution_count": 4
        }
      ]
    },
    {
      "cell_type": "code",
      "source": [
        "# ???\n",
        "99 // 43"
      ],
      "metadata": {
        "colab": {
          "base_uri": "https://localhost:8080/"
        },
        "id": "wY948v3JvQy_",
        "outputId": "96e4e81a-ffe6-45bc-ecd2-aff60c28ef15"
      },
      "execution_count": null,
      "outputs": [
        {
          "output_type": "execute_result",
          "data": {
            "text/plain": [
              "2"
            ]
          },
          "metadata": {},
          "execution_count": 5
        }
      ]
    },
    {
      "cell_type": "code",
      "source": [
        "# Exponentials\n",
        "8 ** 4"
      ],
      "metadata": {
        "colab": {
          "base_uri": "https://localhost:8080/"
        },
        "id": "FnVFvCeew-v2",
        "outputId": "30cba875-debc-462d-df6e-b20ca153bcda"
      },
      "execution_count": null,
      "outputs": [
        {
          "output_type": "execute_result",
          "data": {
            "text/plain": [
              "4096"
            ]
          },
          "metadata": {},
          "execution_count": 6
        }
      ]
    },
    {
      "cell_type": "markdown",
      "source": [
        "## 1.2 Parentheses"
      ],
      "metadata": {
        "id": "E-jPtwJ8xKGJ"
      }
    },
    {
      "cell_type": "code",
      "source": [
        "7 * 2 + 3"
      ],
      "metadata": {
        "colab": {
          "base_uri": "https://localhost:8080/"
        },
        "id": "ATAI8FwKxNvV",
        "outputId": "d4853a6d-7299-4e65-b941-9f0e1cc277b1"
      },
      "execution_count": null,
      "outputs": [
        {
          "output_type": "execute_result",
          "data": {
            "text/plain": [
              "17"
            ]
          },
          "metadata": {},
          "execution_count": 9
        }
      ]
    },
    {
      "cell_type": "code",
      "source": [
        "7 * (2 + 3)"
      ],
      "metadata": {
        "colab": {
          "base_uri": "https://localhost:8080/"
        },
        "id": "VguOEtO-xtE9",
        "outputId": "1888bdf0-4808-4f25-a43f-c10442a0b2e4"
      },
      "execution_count": null,
      "outputs": [
        {
          "output_type": "execute_result",
          "data": {
            "text/plain": [
              "35"
            ]
          },
          "metadata": {},
          "execution_count": 10
        }
      ]
    },
    {
      "cell_type": "markdown",
      "source": [
        "## 1.3 Integers versus Real numbers\n",
        "\n",
        "*Integers does not have decimals*\n",
        "\n",
        "***int*** *means integers*\n",
        "\n",
        "***float*** *means real number*\n"
      ],
      "metadata": {
        "id": "TJw2gcI0y0jd"
      }
    },
    {
      "cell_type": "code",
      "source": [
        "print(5)\n",
        "print(type(5))"
      ],
      "metadata": {
        "colab": {
          "base_uri": "https://localhost:8080/"
        },
        "id": "2qIppi2Gy7b9",
        "outputId": "aeadaee3-2231-4ce0-ead5-cea5ebae4b4b"
      },
      "execution_count": null,
      "outputs": [
        {
          "output_type": "stream",
          "name": "stdout",
          "text": [
            "5\n",
            "<class 'int'>\n"
          ]
        }
      ]
    },
    {
      "cell_type": "code",
      "source": [
        "print(5.0)\n",
        "print(type(5.0))"
      ],
      "metadata": {
        "colab": {
          "base_uri": "https://localhost:8080/"
        },
        "id": "mEPkbuc7zxQF",
        "outputId": "86a152de-1d7c-4919-d49d-38eca7cf058b"
      },
      "execution_count": null,
      "outputs": [
        {
          "output_type": "stream",
          "name": "stdout",
          "text": [
            "5.0\n",
            "<class 'float'>\n"
          ]
        }
      ]
    },
    {
      "cell_type": "markdown",
      "source": [
        "## 1.4 Scientific Notation"
      ],
      "metadata": {
        "id": "Wj3eqC6f0-xp"
      }
    },
    {
      "cell_type": "code",
      "source": [
        "5.0e3"
      ],
      "metadata": {
        "colab": {
          "base_uri": "https://localhost:8080/"
        },
        "id": "vWekfszvoJb3",
        "outputId": "d0182e29-893a-4f74-daab-7e021c1d3752"
      },
      "execution_count": 1,
      "outputs": [
        {
          "output_type": "execute_result",
          "data": {
            "text/plain": [
              "5000.0"
            ]
          },
          "metadata": {},
          "execution_count": 1
        }
      ]
    },
    {
      "cell_type": "code",
      "source": [
        "3.2e2"
      ],
      "metadata": {
        "colab": {
          "base_uri": "https://localhost:8080/"
        },
        "id": "U0loxzE_ribo",
        "outputId": "bb21da30-3376-461e-907c-7a61bb35ba64"
      },
      "execution_count": 3,
      "outputs": [
        {
          "output_type": "execute_result",
          "data": {
            "text/plain": [
              "320.0"
            ]
          },
          "metadata": {},
          "execution_count": 3
        }
      ]
    },
    {
      "cell_type": "markdown",
      "source": [
        "# **2. Basic functions**"
      ],
      "metadata": {
        "id": "OfHexAljsC4t"
      }
    },
    {
      "cell_type": "markdown",
      "source": [
        "##2.1 Print"
      ],
      "metadata": {
        "id": "mSZR_TDMsLAx"
      }
    },
    {
      "cell_type": "code",
      "source": [
        "print(15)\n",
        "print(16)\n"
      ],
      "metadata": {
        "colab": {
          "base_uri": "https://localhost:8080/"
        },
        "id": "C7mKTb_QsN45",
        "outputId": "8a8de94b-d19b-4645-d33b-887634603718"
      },
      "execution_count": 4,
      "outputs": [
        {
          "output_type": "stream",
          "name": "stdout",
          "text": [
            "15\n",
            "16\n"
          ]
        }
      ]
    },
    {
      "cell_type": "code",
      "source": [
        "# Print different elements in the same line\n",
        "print(9, 8, 2023)"
      ],
      "metadata": {
        "colab": {
          "base_uri": "https://localhost:8080/"
        },
        "id": "vyYfKBuvs8fx",
        "outputId": "77ef28c8-f6fa-4cc6-a36f-a89929031216"
      },
      "execution_count": 5,
      "outputs": [
        {
          "output_type": "stream",
          "name": "stdout",
          "text": [
            "9 8 2023\n"
          ]
        }
      ]
    },
    {
      "cell_type": "code",
      "source": [
        "# ???\n",
        "for i in range(1,10): print(i)"
      ],
      "metadata": {
        "colab": {
          "base_uri": "https://localhost:8080/"
        },
        "id": "2X_AxlKdtsbx",
        "outputId": "2b98a963-991d-4d9e-e916-42fe46495c02"
      },
      "execution_count": 11,
      "outputs": [
        {
          "output_type": "stream",
          "name": "stdout",
          "text": [
            "1\n",
            "2\n",
            "3\n",
            "4\n",
            "5\n",
            "6\n",
            "7\n",
            "8\n",
            "9\n"
          ]
        }
      ]
    },
    {
      "cell_type": "code",
      "source": [
        "#???\n",
        "for i in range(1,11): print(i)"
      ],
      "metadata": {
        "colab": {
          "base_uri": "https://localhost:8080/"
        },
        "id": "ph8aYJU1uTpb",
        "outputId": "ac47d716-dc6e-4aeb-b2b7-b6f8b7e23fc1"
      },
      "execution_count": 9,
      "outputs": [
        {
          "output_type": "stream",
          "name": "stdout",
          "text": [
            "1\n",
            "2\n",
            "3\n",
            "4\n",
            "5\n",
            "6\n",
            "7\n",
            "8\n",
            "9\n",
            "10\n"
          ]
        }
      ]
    },
    {
      "cell_type": "code",
      "source": [
        "# With a step, n this case 3 (range certain numbers)\n",
        "for i in range(1,11,3): print(i)"
      ],
      "metadata": {
        "colab": {
          "base_uri": "https://localhost:8080/"
        },
        "id": "XDJ_J_x0vUs8",
        "outputId": "8b4d3c51-eea0-42e2-b9bb-d063087dfefe"
      },
      "execution_count": 12,
      "outputs": [
        {
          "output_type": "stream",
          "name": "stdout",
          "text": [
            "1\n",
            "4\n",
            "7\n",
            "10\n"
          ]
        }
      ]
    },
    {
      "cell_type": "code",
      "source": [
        "#  With Text\n",
        "print('Tatiana')\n",
        "print('First Names:', 'Laura Tatiana')\n",
        "# Tabulation\n",
        "print('First Names:\\t', 'Laura Tatiana')\n",
        "# New line\n",
        "print('First Names:\\n', 'Laura Tatiana')"
      ],
      "metadata": {
        "colab": {
          "base_uri": "https://localhost:8080/"
        },
        "id": "idvmUeb8vybk",
        "outputId": "2d206d8b-b668-46ed-95d3-c424ecb06a30"
      },
      "execution_count": 18,
      "outputs": [
        {
          "output_type": "stream",
          "name": "stdout",
          "text": [
            "Tatiana\n",
            "First Names: Laura Tatiana\n",
            "First Names:\t Laura Tatiana\n",
            "First Names:\n",
            " Laura Tatiana\n"
          ]
        }
      ]
    },
    {
      "cell_type": "code",
      "source": [
        "# Text and numbers\n",
        "print('My favorite number is', 8)"
      ],
      "metadata": {
        "colab": {
          "base_uri": "https://localhost:8080/"
        },
        "id": "2mYfd0S7xKn9",
        "outputId": "efc86cda-26d8-4333-b9a4-59622f3c0eee"
      },
      "execution_count": 19,
      "outputs": [
        {
          "output_type": "stream",
          "name": "stdout",
          "text": [
            "My favorite number is 8\n"
          ]
        }
      ]
    },
    {
      "cell_type": "markdown",
      "source": [
        "## 2.2 Round"
      ],
      "metadata": {
        "id": "Jt5hup2axagx"
      }
    },
    {
      "cell_type": "code",
      "source": [
        "round(5.7289,2)"
      ],
      "metadata": {
        "colab": {
          "base_uri": "https://localhost:8080/"
        },
        "id": "LteaDTfFxgAg",
        "outputId": "ace3c0f1-ea88-403d-c457-5e269fb25ee9"
      },
      "execution_count": 21,
      "outputs": [
        {
          "output_type": "execute_result",
          "data": {
            "text/plain": [
              "5.73"
            ]
          },
          "metadata": {},
          "execution_count": 21
        }
      ]
    },
    {
      "cell_type": "code",
      "source": [
        "# Excercise 1\n",
        "## Aproximate the number 15.4795612358\n",
        "## to 1,2,3,....., decimals and print the result\n",
        "\n",
        "for i in range(0,11):\n",
        "  print('Approx. with:',i,'decimals',round(15.4795612358,i))\n",
        "\n"
      ],
      "metadata": {
        "id": "ajdWvQinxwjg"
      },
      "execution_count": null,
      "outputs": []
    },
    {
      "cell_type": "code",
      "source": [
        "# Excercise 2\n",
        "# Find and print the 100 first multiples of 7\n",
        "for i in range(0,101):\n",
        "  print('The multiple in position',i,'is', i*7)"
      ],
      "metadata": {
        "id": "7dlvsNFs3HnD"
      },
      "execution_count": null,
      "outputs": []
    },
    {
      "cell_type": "code",
      "source": [
        "# Excercise 3\n",
        "# Calculate and print the multiplication table for the numbers 3,4,5,6\n",
        "for j in range(3,7):\n",
        "  print('Multiplication Table of',j)\n",
        "  for i in range(1,11):\n",
        "    print(j,'x',i,'=',j*i)"
      ],
      "metadata": {
        "id": "9UwMx8eg5lJ_"
      },
      "execution_count": null,
      "outputs": []
    }
  ]
}