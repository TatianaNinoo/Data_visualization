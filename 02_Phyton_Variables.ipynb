{
  "nbformat": 4,
  "nbformat_minor": 0,
  "metadata": {
    "colab": {
      "provenance": [],
      "authorship_tag": "ABX9TyPjPA8L3GhDcCslJpVPNaik",
      "include_colab_link": true
    },
    "kernelspec": {
      "name": "python3",
      "display_name": "Python 3"
    },
    "language_info": {
      "name": "python"
    }
  },
  "cells": [
    {
      "cell_type": "markdown",
      "metadata": {
        "id": "view-in-github",
        "colab_type": "text"
      },
      "source": [
        "<a href=\"https://colab.research.google.com/github/TatianaNinoo/Data_visualization/blob/main/02_Phyton_Variables.ipynb\" target=\"_parent\"><img src=\"https://colab.research.google.com/assets/colab-badge.svg\" alt=\"Open In Colab\"/></a>"
      ]
    },
    {
      "cell_type": "markdown",
      "source": [
        "# **1. What is variable?**\n",
        "\n",
        "It is a *container*. You can save *stuff* in there"
      ],
      "metadata": {
        "id": "QW2bOWdis1XR"
      }
    },
    {
      "cell_type": "code",
      "source": [
        "#Example\n",
        "a = 3"
      ],
      "metadata": {
        "id": "7O6nOeZPtpAX"
      },
      "execution_count": null,
      "outputs": []
    },
    {
      "cell_type": "code",
      "source": [
        "print(3 + 1)\n",
        "print (3*3)\n",
        "print(3/2)"
      ],
      "metadata": {
        "id": "0TmnzaY9uPt0"
      },
      "execution_count": null,
      "outputs": []
    },
    {
      "cell_type": "code",
      "source": [
        "# Insted of using 3 use a\n",
        "print(a + 1)\n",
        "print(a*a)\n",
        "print(a/2)\n",
        "#You can change the value of the variable when you need it"
      ],
      "metadata": {
        "id": "uHpaGvt8uqW8"
      },
      "execution_count": null,
      "outputs": []
    },
    {
      "cell_type": "code",
      "source": [
        "#Example\n",
        "x = y = z = 100"
      ],
      "metadata": {
        "id": "3AXBvZOCu_hZ"
      },
      "execution_count": null,
      "outputs": []
    },
    {
      "cell_type": "markdown",
      "source": [
        "# **2. Delete and Clear variables**"
      ],
      "metadata": {
        "id": "wua0NldpvPZ0"
      }
    },
    {
      "cell_type": "code",
      "source": [
        "# Delete\n",
        "del x\n",
        "del y, z"
      ],
      "metadata": {
        "id": "VZQ0o3ZuvbLK"
      },
      "execution_count": null,
      "outputs": []
    },
    {
      "cell_type": "code",
      "source": [
        "# Clear\n",
        "# Be careful! You delete everything\n",
        "%reset"
      ],
      "metadata": {
        "id": "XyVaWz-Zvvcr"
      },
      "execution_count": null,
      "outputs": []
    },
    {
      "cell_type": "code",
      "source": [
        "# Excercise 1\n",
        "## Aproximate the number 15.4795612358\n",
        "## to 1,2,3,....., decimals and print the result\n",
        "\n",
        "## Using Variables\n",
        "\n",
        "a = 15.4795612358  # The number to approx.\n",
        "b = 0              # Initial approx.\n",
        "c = 11             # (c-1) is the last approx.\n",
        "\n",
        "for i in range(b,c):\n",
        "  print('Approx. with:',i,'decimals',round(a,i))\n"
      ],
      "metadata": {
        "id": "jr9FY-ZbwjkP"
      },
      "execution_count": null,
      "outputs": []
    },
    {
      "cell_type": "code",
      "source": [
        "# Excercise 2\n",
        "# Find and print the 100 first multiples of 7\n",
        "\n",
        "# Using variables\n",
        "\n",
        "d = 0    # Initial multiple\n",
        "e = 101  # (e-1) Number of multiples or last multiple.\n",
        "f = 7    # Number that is finding out the multiples\n",
        "\n",
        "print('The', e-1, 'multiples of', f)\n",
        "for i in range(d,e):\n",
        "  print('The multiple in position',i,'is', i*f)"
      ],
      "metadata": {
        "id": "jc85VhBRzyvI"
      },
      "execution_count": null,
      "outputs": []
    },
    {
      "cell_type": "markdown",
      "source": [
        "# **3. Naming**"
      ],
      "metadata": {
        "id": "sS-U22Tj18fO"
      }
    },
    {
      "cell_type": "code",
      "source": [
        "# A variable with my name\n",
        "Name = 'Tatiana'\n",
        "NaMe = 'Tatiana'\n",
        "NAME = 'Tatiana'\n",
        "my_name = 'Tatiana'\n",
        "name = 'Tatiana'\n",
        "first_name = 'Tatiana'"
      ],
      "metadata": {
        "id": "4FeqFZEl2Bce"
      },
      "execution_count": null,
      "outputs": []
    },
    {
      "cell_type": "code",
      "source": [
        "age1 = 15"
      ],
      "metadata": {
        "id": "jqPjZHDw37RC"
      },
      "execution_count": null,
      "outputs": []
    },
    {
      "cell_type": "code",
      "source": [
        "age_01 = 15"
      ],
      "metadata": {
        "id": "bk0LnVsB4FMG"
      },
      "execution_count": null,
      "outputs": []
    },
    {
      "cell_type": "code",
      "source": [
        "## Let's say I want to create a variable for the price of a cellphone\n",
        "\n",
        "maluma = 100\n",
        "price = 100"
      ],
      "metadata": {
        "id": "aTiFSPOE4hQq"
      },
      "execution_count": null,
      "outputs": []
    },
    {
      "cell_type": "markdown",
      "source": [
        "# **4. Data types**"
      ],
      "metadata": {
        "id": "6p5BMAMW4-Tq"
      }
    },
    {
      "cell_type": "markdown",
      "source": [
        "Integers and floats...OK.\n"
      ],
      "metadata": {
        "id": "Vwr4IVpb5H0k"
      }
    },
    {
      "cell_type": "code",
      "source": [
        "%reset"
      ],
      "metadata": {
        "id": "Yjde4sTw5XsC"
      },
      "execution_count": null,
      "outputs": []
    },
    {
      "cell_type": "code",
      "source": [
        "w = 1\n"
      ],
      "metadata": {
        "id": "Pt5y2hzA5Mqj"
      },
      "execution_count": null,
      "outputs": []
    },
    {
      "cell_type": "code",
      "source": [
        "w += 1\n",
        "print(w)"
      ],
      "metadata": {
        "id": "pgFNFOId55kt"
      },
      "execution_count": null,
      "outputs": []
    },
    {
      "cell_type": "markdown",
      "source": [
        "## 4.1 Booleans\n",
        "\n",
        "## This variable only can take 2 values that are *true* and *false*"
      ],
      "metadata": {
        "id": "bHy2w8vZ6TEX"
      }
    },
    {
      "cell_type": "code",
      "source": [
        "am_i_alive = False"
      ],
      "metadata": {
        "id": "qfgocCFU6WUN"
      },
      "execution_count": null,
      "outputs": []
    },
    {
      "cell_type": "code",
      "source": [
        "print(am_i_alive)\n",
        "print(type(am_i_alive))"
      ],
      "metadata": {
        "id": "KThpfQaL6rUj"
      },
      "execution_count": null,
      "outputs": []
    },
    {
      "cell_type": "markdown",
      "source": [
        "## 4.2 Boolean expressions"
      ],
      "metadata": {
        "id": "IlA3LaF97Axk"
      }
    },
    {
      "cell_type": "code",
      "source": [
        "x = 2\n",
        "y = 3"
      ],
      "metadata": {
        "id": "huXCvpNo7GHO"
      },
      "execution_count": null,
      "outputs": []
    },
    {
      "cell_type": "code",
      "source": [
        "x == y"
      ],
      "metadata": {
        "id": "E5_tEtcW7O_U"
      },
      "execution_count": null,
      "outputs": []
    },
    {
      "cell_type": "code",
      "source": [
        "result = x==y\n",
        "print(result)"
      ],
      "metadata": {
        "id": "jpaawAUT75YI"
      },
      "execution_count": null,
      "outputs": []
    },
    {
      "cell_type": "code",
      "source": [
        "result1 = x >= y\n",
        "print(result)"
      ],
      "metadata": {
        "id": "Lx6_QEvA79lN"
      },
      "execution_count": null,
      "outputs": []
    },
    {
      "cell_type": "code",
      "source": [
        "result2 = x <= y\n",
        "print(result)"
      ],
      "metadata": {
        "id": "5JcLiW6M8Hgh"
      },
      "execution_count": null,
      "outputs": []
    },
    {
      "cell_type": "code",
      "source": [
        "result1 + result2"
      ],
      "metadata": {
        "id": "FoZ3Cu_q8VLg"
      },
      "execution_count": null,
      "outputs": []
    },
    {
      "cell_type": "code",
      "source": [
        "# Practice\n",
        "# Create the necessary code to evaluate the expression\n",
        "# x*y > x + y\n",
        "# for numbers ranging from 1 to 6\n",
        "\n",
        "g = 1\n",
        "h = 7\n",
        "for x in range(g,h):\n",
        " for y in range (g,h):\n",
        "  print('When x=', x ,'And y=', y)\n",
        "  print('Result of Multiplication')\n",
        "  result3 = x * y\n",
        "  print(result3)\n",
        "  print('Result of Summary')\n",
        "  result4 = x + y\n",
        "  print(result4)\n",
        "  print('Is x*y> x + y?')\n",
        "  result5 = result3 > result4\n",
        "  print(result5)"
      ],
      "metadata": {
        "id": "H5zz0Vzc-Ry_"
      },
      "execution_count": null,
      "outputs": []
    },
    {
      "cell_type": "markdown",
      "source": [
        "##4.4 String Variables"
      ],
      "metadata": {
        "id": "Cj0lx68q2a96"
      }
    },
    {
      "cell_type": "code",
      "source": [
        "#Example\n",
        "name = 'Tatiana'\n",
        "last_name = 'Niño'\n",
        "print(type(name))\n",
        "print(last_name)"
      ],
      "metadata": {
        "colab": {
          "base_uri": "https://localhost:8080/"
        },
        "id": "FVnTsrtM2iDS",
        "outputId": "c5b470ad-a854-42b6-f71d-83262f779b3c"
      },
      "execution_count": 16,
      "outputs": [
        {
          "output_type": "stream",
          "name": "stdout",
          "text": [
            "<class 'str'>\n",
            "Niño\n"
          ]
        }
      ]
    },
    {
      "cell_type": "code",
      "source": [
        "#Example - caution\n",
        "price = '100'\n",
        "print(price)\n",
        "print(price*2)\n",
        "print(type(price))\n",
        "#Al ser texto no se pueden hacer operaciones\n"
      ],
      "metadata": {
        "colab": {
          "base_uri": "https://localhost:8080/"
        },
        "id": "3ND3K_k23eVM",
        "outputId": "e7666a6b-eeb1-4932-9a9a-250495c08c12"
      },
      "execution_count": 18,
      "outputs": [
        {
          "output_type": "stream",
          "name": "stdout",
          "text": [
            "100\n",
            "100100\n",
            "<class 'str'>\n"
          ]
        }
      ]
    },
    {
      "cell_type": "code",
      "source": [
        "#Para convertir de texto a numero\n",
        "new_price = int(price)\n",
        "print(new_price)"
      ],
      "metadata": {
        "colab": {
          "base_uri": "https://localhost:8080/"
        },
        "id": "84rGX-KD3-P3",
        "outputId": "47762b86-8331-4c13-a9cb-d58edbd70f67"
      },
      "execution_count": 22,
      "outputs": [
        {
          "output_type": "stream",
          "name": "stdout",
          "text": [
            "100\n"
          ]
        }
      ]
    },
    {
      "cell_type": "code",
      "source": [
        "#No todo texto se puede convertir a numero\n",
        "print(int(last_name))"
      ],
      "metadata": {
        "id": "Kxlf7Zt44Nh_"
      },
      "execution_count": null,
      "outputs": []
    },
    {
      "cell_type": "markdown",
      "source": [
        "**Slicing**"
      ],
      "metadata": {
        "id": "Zi8lyT0l4mOA"
      }
    },
    {
      "cell_type": "code",
      "source": [
        "#Example\n",
        "u = 'Universidad de La Salle'\n",
        "print(u)"
      ],
      "metadata": {
        "colab": {
          "base_uri": "https://localhost:8080/"
        },
        "id": "BXjuUl804sdO",
        "outputId": "1b835ad3-e64f-4070-baf5-0affc6a410b0"
      },
      "execution_count": 23,
      "outputs": [
        {
          "output_type": "stream",
          "name": "stdout",
          "text": [
            "Universidad de La Salle\n"
          ]
        }
      ]
    },
    {
      "cell_type": "code",
      "source": [
        "#Slicing\n",
        "print('Extract the first element of u:', u[0])\n",
        "#El primer elemento es 0 porque Phyton empieza a contar en 0\n",
        "print('The space is also an element:', u[11])\n",
        "#El elemento 11 es el espacio, Phyton cuenta los espacios como elementos\n",
        "print('Extract the last element of u:', u[-1])\n",
        "# De derecha a izquierda o de abajo hacia arriba Phyton cuenta desde -1\n",
        "print('Extract the first two element of u:', u[0:2])\n",
        "print('Extract the last two element of u:', u[-3:-1])"
      ],
      "metadata": {
        "colab": {
          "base_uri": "https://localhost:8080/"
        },
        "id": "HWuV7U0k464p",
        "outputId": "0c2a02d9-0e61-4cb0-c2dc-3beea296a66b"
      },
      "execution_count": 61,
      "outputs": [
        {
          "output_type": "stream",
          "name": "stdout",
          "text": [
            "Extract the first element of u: U\n",
            "The space is also an element:  \n",
            "Extract the last element of u: e\n",
            "Extract the first two element of u: Un\n",
            "Extract the last two element of u: \n"
          ]
        }
      ]
    },
    {
      "cell_type": "markdown",
      "source": [
        "**Method**"
      ],
      "metadata": {
        "id": "Hi9Rjemf8D5J"
      }
    },
    {
      "cell_type": "code",
      "source": [
        "# Lower case\n",
        "u.lower()"
      ],
      "metadata": {
        "colab": {
          "base_uri": "https://localhost:8080/",
          "height": 35
        },
        "id": "UFx5M0X28GRh",
        "outputId": "44ac2377-87f9-4f44-96ed-eae41c975f68"
      },
      "execution_count": 54,
      "outputs": [
        {
          "output_type": "execute_result",
          "data": {
            "text/plain": [
              "'universidad de la salle'"
            ],
            "application/vnd.google.colaboratory.intrinsic+json": {
              "type": "string"
            }
          },
          "metadata": {},
          "execution_count": 54
        }
      ]
    },
    {
      "cell_type": "code",
      "source": [
        "# Upper case\n",
        "u.upper()"
      ],
      "metadata": {
        "colab": {
          "base_uri": "https://localhost:8080/",
          "height": 35
        },
        "id": "kwXaPg7h8aQS",
        "outputId": "8dcb0b40-f2da-447c-e4a7-efac74017a63"
      },
      "execution_count": 55,
      "outputs": [
        {
          "output_type": "execute_result",
          "data": {
            "text/plain": [
              "'UNIVERSIDAD DE LA SALLE'"
            ],
            "application/vnd.google.colaboratory.intrinsic+json": {
              "type": "string"
            }
          },
          "metadata": {},
          "execution_count": 55
        }
      ]
    },
    {
      "cell_type": "code",
      "source": [
        "#Split\n",
        "u.split('')"
      ],
      "metadata": {
        "colab": {
          "base_uri": "https://localhost:8080/"
        },
        "id": "7XxbiO-p80xU",
        "outputId": "19e5acbc-b534-4c1e-c3df-ea3f029c7325"
      },
      "execution_count": 62,
      "outputs": [
        {
          "output_type": "execute_result",
          "data": {
            "text/plain": [
              "['Universidad de La Sa', '', 'e']"
            ]
          },
          "metadata": {},
          "execution_count": 62
        }
      ]
    },
    {
      "cell_type": "code",
      "source": [
        "u.split(' ')[0]"
      ],
      "metadata": {
        "colab": {
          "base_uri": "https://localhost:8080/",
          "height": 35
        },
        "id": "yGl5KXaj9cOt",
        "outputId": "9ee3a8c8-37a6-4e25-9900-d8676a85f20b"
      },
      "execution_count": 64,
      "outputs": [
        {
          "output_type": "execute_result",
          "data": {
            "text/plain": [
              "'Salle'"
            ],
            "application/vnd.google.colaboratory.intrinsic+json": {
              "type": "string"
            }
          },
          "metadata": {},
          "execution_count": 64
        }
      ]
    }
  ]
}